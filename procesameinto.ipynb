{
 "cells": [
  {
   "cell_type": "code",
   "execution_count": 1,
   "metadata": {},
   "outputs": [],
   "source": [
    "import pandas as pd\n",
    "import numpy as np\n",
    "import matplotlib.pyplot as plt"
   ]
  },
  {
   "cell_type": "code",
   "execution_count": 66,
   "metadata": {},
   "outputs": [
    {
     "name": "stderr",
     "output_type": "stream",
     "text": [
      "C:\\Users\\benja\\AppData\\Local\\Temp\\ipykernel_14932\\894346182.py:1: DtypeWarning: Columns (17,22,23,24,25,26) have mixed types. Specify dtype option on import or set low_memory=False.\n",
      "  df = pd.read_csv('2024.csv', sep=';')\n"
     ]
    }
   ],
   "source": [
    "df = pd.read_csv('2024.csv', sep=';')"
   ]
  },
  {
   "cell_type": "code",
   "execution_count": 96,
   "metadata": {},
   "outputs": [],
   "source": [
    "rbd=df['RBD'].unique()"
   ]
  },
  {
   "cell_type": "code",
   "execution_count": 69,
   "metadata": {},
   "outputs": [
    {
     "data": {
      "text/plain": [
       "Index(['MRUN', 'ANYO_PROCESO', 'COD_SEXO', 'FECHA_NACIMIENTO', 'RBD',\n",
       "       'CODIGO_ENS', 'LOCAL_EDUCACIONAL', 'UNIDAD_EDUCATIVA',\n",
       "       'NOMBRE_UNIDAD_EDUC', 'RAMA_EDUCACIONAL',\n",
       "       ...\n",
       "       'PRUEBA_INV_CQUI', 'FORMA_INV_CQUI', 'CORRECTAS_INV_CQUI',\n",
       "       'ERRADAS_INV_CQUI', 'OMITIDAS_INV_CQUI', 'PRUEBA_INV_CTP',\n",
       "       'FORMA_INV_CTP', 'CORRECTAS_INV_CTP', 'ERRADAS_INV_CTP',\n",
       "       'OMITIDAS_INV_CTP'],\n",
       "      dtype='object', length=130)"
      ]
     },
     "execution_count": 69,
     "metadata": {},
     "output_type": "execute_result"
    }
   ],
   "source": [
    "df.columns"
   ]
  },
  {
   "cell_type": "code",
   "execution_count": 97,
   "metadata": {},
   "outputs": [],
   "source": [
    "rbd=pd.DataFrame(rbd,columns=['RBD'])\n",
    "rbd.replace(' ', np.nan, inplace=True)\n",
    "rbd.dropna(axis=0,inplace=True)"
   ]
  },
  {
   "cell_type": "code",
   "execution_count": 80,
   "metadata": {},
   "outputs": [],
   "source": [
    "columnas=['RBD','RURAL_RBD','PAGO_MATRICULA','PAGO_MENSUAL']"
   ]
  },
  {
   "cell_type": "code",
   "execution_count": 81,
   "metadata": {},
   "outputs": [
    {
     "data": {
      "text/plain": [
       "Index(['PAGO_MATRICULA', 'PAGO_MENSUAL', 'RBD', 'RURAL_RBD'], dtype='object')"
      ]
     },
     "execution_count": 81,
     "metadata": {},
     "output_type": "execute_result"
    }
   ],
   "source": [
    "ee2023=pd.read_csv(\"2023 EE.csv\",sep=';')\n",
    "ee2023.columns.difference(ee2023.columns.difference(columnas))"
   ]
  },
  {
   "cell_type": "code",
   "execution_count": 82,
   "metadata": {},
   "outputs": [
    {
     "data": {
      "text/plain": [
       "Index(['PAGO_MATRICULA', 'PAGO_MENSUAL', 'RBD', 'RURAL_RBD'], dtype='object')"
      ]
     },
     "execution_count": 82,
     "metadata": {},
     "output_type": "execute_result"
    }
   ],
   "source": [
    "ee2022=pd.read_csv(\"2022 EE.csv\",sep=';')\n",
    "ee2022.columns.difference(ee2022.columns.difference(columnas))"
   ]
  },
  {
   "cell_type": "code",
   "execution_count": 83,
   "metadata": {},
   "outputs": [
    {
     "data": {
      "text/plain": [
       "Index(['PAGO_MATRICULA', 'PAGO_MENSUAL', 'RBD', 'RURAL_RBD'], dtype='object')"
      ]
     },
     "execution_count": 83,
     "metadata": {},
     "output_type": "execute_result"
    }
   ],
   "source": [
    "ee2021=pd.read_csv(\"2021 EE.csv\",sep=';')\n",
    "ee2021.columns.difference(ee2021.columns.difference(columnas))"
   ]
  },
  {
   "cell_type": "code",
   "execution_count": 84,
   "metadata": {},
   "outputs": [
    {
     "data": {
      "text/plain": [
       "Index(['PAGO_MATRICULA', 'PAGO_MENSUAL', 'RBD', 'RURAL_RBD'], dtype='object')"
      ]
     },
     "execution_count": 84,
     "metadata": {},
     "output_type": "execute_result"
    }
   ],
   "source": [
    "ee2020=pd.read_csv(\"2020 EE.csv\",sep=';')\n",
    "ee2020.columns.difference(ee2020.columns.difference(columnas))"
   ]
  },
  {
   "cell_type": "code",
   "execution_count": 100,
   "metadata": {},
   "outputs": [],
   "source": [
    "columnas2020 = []\n",
    "columnas2021 = []\n",
    "columnas2022 = []\n",
    "columnas2023 = []\n",
    "for each in rbd['RBD']:\n",
    "    # Para ee2023\n",
    "    row = ee2023[ee2023['RBD'] == int(each)]\n",
    "    if not row.empty:\n",
    "        columnas2023.append([row['COD_DEPE2'].values[0], row['PAGO_MATRICULA'].values[0], row['PAGO_MENSUAL'].values[0], row['RURAL_RBD'].values[0]])\n",
    "    \n",
    "    # Para ee2022\n",
    "    row = ee2022[ee2022['RBD'] == int(each)]\n",
    "    if not row.empty:\n",
    "        columnas2022.append([row['COD_DEPE2'].values[0], row['PAGO_MATRICULA'].values[0], row['PAGO_MENSUAL'].values[0], row['RURAL_RBD'].values[0]])\n",
    "    \n",
    "    # Para ee2021\n",
    "    row = ee2021[ee2021['RBD'] == int(each)]\n",
    "    if not row.empty:\n",
    "        columnas2021.append([row['COD_DEPE2'].values[0], row['PAGO_MATRICULA'].values[0], row['PAGO_MENSUAL'].values[0], row['RURAL_RBD'].values[0]])\n",
    "    \n",
    "    # Para ee2020\n",
    "    row = ee2020[ee2020['RBD'] == int(each)]\n",
    "    if not row.empty:\n",
    "        columnas2020.append([row['COD_DEPE2'].values[0], row['PAGO_MATRICULA'].values[0], row['PAGO_MENSUAL'].values[0], row['RURAL_RBD'].values[0]])\n",
    "\n",
    "\n",
    "    "
   ]
  },
  {
   "cell_type": "code",
   "execution_count": null,
   "metadata": {},
   "outputs": [],
   "source": []
  }
 ],
 "metadata": {
  "kernelspec": {
   "display_name": "ee",
   "language": "python",
   "name": "python3"
  },
  "language_info": {
   "codemirror_mode": {
    "name": "ipython",
    "version": 3
   },
   "file_extension": ".py",
   "mimetype": "text/x-python",
   "name": "python",
   "nbconvert_exporter": "python",
   "pygments_lexer": "ipython3",
   "version": "3.12.3"
  }
 },
 "nbformat": 4,
 "nbformat_minor": 2
}
